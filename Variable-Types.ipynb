{
 "cells": [
  {
   "cell_type": "markdown",
   "metadata": {},
   "source": [
    "### 赋值方式\n",
    "age1 = age2 = age3 = 18\n",
    "age1, age2, age3 = 12, 21, 43\n",
    "#### 上述赋值只能用于基本变量类型，若age1 = age2 = [ ], 则会指向同一地址空间。改变age1，age2也会发生改变"
   ]
  },
  {
   "cell_type": "markdown",
   "metadata": {},
   "source": [
    "### 变量类型\n",
    "数字类型 Number  \n",
    "字符型 str  \n",
    "列表 list  \n",
    "元组 tuple  \n",
    "字典 dict  \n",
    "集合 set  "
   ]
  },
  {
   "cell_type": "markdown",
   "metadata": {},
   "source": [
    "#### Number 包含三种\n",
    "整数（整数无大小限制） 18， 0b1011, 0o172, 0x2f4e  \n",
    "浮点 小数（有精度限制） .5=0.5 科学记数: 176.23 == 1.7634e2 0.876 == 8.76e-1  \n",
    "布尔 True/False(可用1和0代替) age = 18+True=19"
   ]
  },
  {
   "cell_type": "markdown",
   "metadata": {},
   "source": [
    "#### 运算符\n",
    "+、-、*、／ python3的除法结果是可以有小数的  \n",
    "// 取商运算  \n",
    "% 取余运算  \n",
    "** 幂运算  \n",
    "+=、-=、*=、／=  \n",
    "\n",
    "逻辑运算：and or not  \n",
    "成员运算：in、not in（后面接的必须是可迭代的，如list，tuple）  \n",
    "身份运算：is、is not  \n",
    "python没有自增与自减语句"
   ]
  },
  {
   "cell_type": "code",
   "execution_count": 1,
   "metadata": {},
   "outputs": [
    {
     "name": "stdout",
     "output_type": "stream",
     "text": [
      "True\n"
     ]
    }
   ],
   "source": [
    "a = 'lxy'\n",
    "b = 'lxy'\n",
    "print(a is b)"
   ]
  }
 ],
 "metadata": {
  "kernelspec": {
   "display_name": "Python 3",
   "language": "python",
   "name": "python3"
  },
  "language_info": {
   "codemirror_mode": {
    "name": "ipython",
    "version": 3
   },
   "file_extension": ".py",
   "mimetype": "text/x-python",
   "name": "python",
   "nbconvert_exporter": "python",
   "pygments_lexer": "ipython3",
   "version": "3.6.1"
  }
 },
 "nbformat": 4,
 "nbformat_minor": 2
}
