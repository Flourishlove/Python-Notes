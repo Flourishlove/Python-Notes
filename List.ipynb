{
 "cells": [
  {
   "cell_type": "markdown",
   "metadata": {},
   "source": [
    "#### Python中到list是一个动态array，而不是linkedlist。每次append到内存满了之后后，再进行空间分配，不完全是两倍两倍地进行。"
   ]
  },
  {
   "cell_type": "code",
   "execution_count": 13,
   "metadata": {},
   "outputs": [
    {
     "name": "stdout",
     "output_type": "stream",
     "text": [
      "honda\n",
      "100\n"
     ]
    }
   ],
   "source": [
    "# list索引从0开始，可以用-1访问最后一个list中最后一个元素\n",
    "motocycles = ['honda', 'yamaha', 'suzuki', 100]\n",
    "print(motocycles[0])\n",
    "print(motocycles[-1])"
   ]
  },
  {
   "cell_type": "markdown",
   "metadata": {},
   "source": [
    "#### 添加元素方式"
   ]
  },
  {
   "cell_type": "code",
   "execution_count": 14,
   "metadata": {},
   "outputs": [
    {
     "name": "stdout",
     "output_type": "stream",
     "text": [
      "['honda', 'yamaha', 'suzuki', 100, 'toshiba']\n"
     ]
    }
   ],
   "source": [
    "# append\n",
    "motocycles.append('toshiba')\n",
    "print(motocycles)"
   ]
  },
  {
   "cell_type": "code",
   "execution_count": 15,
   "metadata": {
    "scrolled": true
   },
   "outputs": [
    {
     "name": "stdout",
     "output_type": "stream",
     "text": [
      "['honda', 'yamaha', 'suzuki', 100, 'toshiba', 'yes', 1, 'no']\n"
     ]
    }
   ],
   "source": [
    "# extend将一个可迭代的里面所有元素加入到list中\n",
    "motocycles.extend(('yes',1,'no'))\n",
    "print(motocycles)"
   ]
  },
  {
   "cell_type": "code",
   "execution_count": 16,
   "metadata": {},
   "outputs": [
    {
     "name": "stdout",
     "output_type": "stream",
     "text": [
      "['lvyuan', 'honda', 'yamaha', 'suzuki', 100, 'toshiba', 'yes', 1, 'no']\n"
     ]
    }
   ],
   "source": [
    "# Insert操作将右边所有元素右移，复杂的为O(n)\n",
    "motocycles.insert(0, 'lvyuan')\n",
    "print(motocycles)"
   ]
  },
  {
   "cell_type": "markdown",
   "metadata": {},
   "source": [
    "#### 三种删除元素方式，删除操作都会让list左移并重新审视自己的内存，如果小于一半了，那么会缩小内存空间"
   ]
  },
  {
   "cell_type": "code",
   "execution_count": 17,
   "metadata": {},
   "outputs": [
    {
     "name": "stdout",
     "output_type": "stream",
     "text": [
      "['honda', 'yamaha', 'suzuki', 100, 'toshiba', 'yes', 1, 'no']\n"
     ]
    }
   ],
   "source": [
    "# del操作删除指定位置值，复杂的为O(n-i)，删除后到移动\n",
    "del motocycles[0]\n",
    "print(motocycles)"
   ]
  },
  {
   "cell_type": "code",
   "execution_count": 18,
   "metadata": {},
   "outputs": [
    {
     "name": "stdout",
     "output_type": "stream",
     "text": [
      "['honda', 'yamaha', 'suzuki', 100, 'toshiba', 'yes', 'no']\n"
     ]
    }
   ],
   "source": [
    "# pop操作删除指定位置值，可以拿到返回值，复杂的为O(n-i)\n",
    "someVihicle = motocycles.pop(-2)\n",
    "print(motocycles)"
   ]
  },
  {
   "cell_type": "code",
   "execution_count": 19,
   "metadata": {},
   "outputs": [
    {
     "name": "stdout",
     "output_type": "stream",
     "text": [
      "['honda', 'yamaha', 'suzuki', 'toshiba', 'yes', 'no']\n"
     ]
    }
   ],
   "source": [
    "# remove操作删除第一个遇到到值，复杂的为O(n),如果没有这个值会报错\n",
    "motocycles.remove(100)\n",
    "print(motocycles)"
   ]
  },
  {
   "cell_type": "markdown",
   "metadata": {},
   "source": [
    "#### 删除所有元素可以用以下方式"
   ]
  },
  {
   "cell_type": "code",
   "execution_count": 22,
   "metadata": {},
   "outputs": [
    {
     "name": "stdout",
     "output_type": "stream",
     "text": [
      "[]\n",
      "4369928520\n",
      "4369915592\n",
      "[]\n",
      "4369928520\n"
     ]
    }
   ],
   "source": [
    "motocycles.clear()\n",
    "print(motocycles)\n",
    "l = ['new', 'list']\n",
    "print(id(l))\n",
    "print(id(l[:]))\n",
    "del l[:]  \n",
    "print(l)\n",
    "print(id(l))"
   ]
  },
  {
   "cell_type": "markdown",
   "metadata": {},
   "source": [
    "#### 排序"
   ]
  },
  {
   "cell_type": "code",
   "execution_count": 25,
   "metadata": {},
   "outputs": [
    {
     "name": "stdout",
     "output_type": "stream",
     "text": [
      "['yamaha', 'suzuki', 'honda']\n"
     ]
    }
   ],
   "source": [
    "#list里面必须是同一种类型的变量才可以排序，默认排序从小到大\n",
    "motocycles = ['honda', 'yamaha', 'suzuki']\n",
    "motocycles.sort(reverse=True)\n",
    "print(motocycles)"
   ]
  },
  {
   "cell_type": "code",
   "execution_count": 26,
   "metadata": {},
   "outputs": [
    {
     "name": "stdout",
     "output_type": "stream",
     "text": [
      "['honda', 'suzuki', 'yamaha']\n",
      "['honda', 'yamaha', 'suzuki']\n"
     ]
    }
   ],
   "source": [
    "#使用sorted函数排序是新建另外一个list排序，不改变原来list\n",
    "motocycles = ['honda', 'yamaha', 'suzuki']\n",
    "print(sorted(motocycles))\n",
    "print(motocycles)"
   ]
  },
  {
   "cell_type": "markdown",
   "metadata": {},
   "source": [
    "#### reverse 反转列表"
   ]
  },
  {
   "cell_type": "code",
   "execution_count": 27,
   "metadata": {},
   "outputs": [
    {
     "name": "stdout",
     "output_type": "stream",
     "text": [
      "['suzuki', 'yamaha', 'honda']\n"
     ]
    }
   ],
   "source": [
    "motocycles = ['honda', 'yamaha', 'suzuki']\n",
    "motocycles.reverse()\n",
    "print(motocycles)"
   ]
  },
  {
   "cell_type": "markdown",
   "metadata": {},
   "source": [
    "#### 复制list，分辨Aliasing, Shadow Copy and Deep Copy"
   ]
  },
  {
   "cell_type": "code",
   "execution_count": 32,
   "metadata": {},
   "outputs": [
    {
     "name": "stdout",
     "output_type": "stream",
     "text": [
      "['honda', 'yamaha', 'suzuki']\n",
      "['tesle', 'yamaha', 'suzuki']\n",
      "['honda', 'yamaha', 'suzuki']\n",
      "4371267208\n",
      "4369915592\n"
     ]
    }
   ],
   "source": [
    "#只有一层的情况下，shadow copy和deep copy没有什么区别\n",
    "motocycles = ['honda', 'yamaha', 'suzuki']\n",
    "new_moto = motocycles.copy()\n",
    "print(new_moto)\n",
    "new_moto[0] = 'tesle'\n",
    "print(new_moto)\n",
    "print(motocycles)\n",
    "print(id(motocycles))\n",
    "print(id(new_moto))"
   ]
  },
  {
   "cell_type": "code",
   "execution_count": null,
   "metadata": {},
   "outputs": [],
   "source": [
    "#但是在多层的情况下，shadow copy和deep copy就有区别了\n",
    "motocycles = ['honda', 'yamaha', 'suzuki']"
   ]
  }
 ],
 "metadata": {
  "kernelspec": {
   "display_name": "Python 3",
   "language": "python",
   "name": "python3"
  },
  "language_info": {
   "codemirror_mode": {
    "name": "ipython",
    "version": 3
   },
   "file_extension": ".py",
   "mimetype": "text/x-python",
   "name": "python",
   "nbconvert_exporter": "python",
   "pygments_lexer": "ipython3",
   "version": "3.6.1"
  }
 },
 "nbformat": 4,
 "nbformat_minor": 2
}
